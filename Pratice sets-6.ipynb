{
 "cells": [
  {
   "cell_type": "code",
   "execution_count": 2,
   "id": "256782d0",
   "metadata": {},
   "outputs": [
    {
     "name": "stdout",
     "output_type": "stream",
     "text": [
      "Please enter the radius of the given circle: 5\n",
      " The area of the given circle is:  78.53981633974483\n"
     ]
    }
   ],
   "source": [
    "#w.a.p to display area of a circle\n",
    "import math as c \n",
    "Radius = float (input (\"Please enter the radius of the given circle: \"))  \n",
    "area_of_the_circle = c.pi* Radius * Radius  \n",
    "print (\" The area of the given circle is: \", area_of_the_circle)  "
   ]
  },
  {
   "cell_type": "code",
   "execution_count": 3,
   "id": "876ad940",
   "metadata": {},
   "outputs": [
    {
     "name": "stdout",
     "output_type": "stream",
     "text": [
      "Enter first side: 5\n",
      "Enter second side: 6\n",
      "Enter third side: 7\n",
      "The area of the triangle is 14.70\n"
     ]
    }
   ],
   "source": [
    "#w.a.p to find area of a trangle\n",
    "a = float(input('Enter first side: '))  \n",
    "b = float(input('Enter second side: '))  \n",
    "c = float(input('Enter third side: '))  \n",
    "s = (a + b + c) / 2  \n",
    "area = (s*(s-a)*(s-b)*(s-c)) ** 0.5  \n",
    "print('The area of the triangle is %0.2f' %area)   "
   ]
  },
  {
   "cell_type": "code",
   "execution_count": 5,
   "id": "81bc35e8",
   "metadata": {},
   "outputs": [
    {
     "name": "stdout",
     "output_type": "stream",
     "text": [
      "Please enter the speed of car in Kilometre as a unit: 15\n",
      "The speed value of car in Miles:  9.320565\n"
     ]
    }
   ],
   "source": [
    "#w.a.p to convert killometer to miles\n",
    "kilometre = float (input (\"Please enter the speed of car in Kilometre as a unit: \"))  \n",
    "conversion_ratio = 0.621371  \n",
    "miles = kilometre * conversion_ratio  \n",
    "print (\"The speed value of car in Miles: \", miles)"
   ]
  },
  {
   "cell_type": "code",
   "execution_count": 7,
   "id": "6324a29c",
   "metadata": {},
   "outputs": [
    {
     "name": "stdout",
     "output_type": "stream",
     "text": [
      "0.17919366608899467\n"
     ]
    }
   ],
   "source": [
    "#w.a.p to generate a random number\n",
    "import random  \n",
    "n = random.random()  \n",
    "print(n)  "
   ]
  },
  {
   "cell_type": "code",
   "execution_count": 8,
   "id": "546da52a",
   "metadata": {},
   "outputs": [
    {
     "name": "stdout",
     "output_type": "stream",
     "text": [
      "Enter year: 2022\n",
      "Enter month: 02\n",
      "   February 2022\n",
      "Mo Tu We Th Fr Sa Su\n",
      "    1  2  3  4  5  6\n",
      " 7  8  9 10 11 12 13\n",
      "14 15 16 17 18 19 20\n",
      "21 22 23 24 25 26 27\n",
      "28\n",
      "\n"
     ]
    }
   ],
   "source": [
    "#w.a.p to display a calender\n",
    "import calendar  \n",
    "yy = int(input(\"Enter year: \"))  \n",
    "mm = int(input(\"Enter month: \"))  \n",
    "print(calendar.month(yy,mm))  "
   ]
  },
  {
   "cell_type": "code",
   "execution_count": null,
   "id": "336806c0",
   "metadata": {},
   "outputs": [],
   "source": []
  }
 ],
 "metadata": {
  "kernelspec": {
   "display_name": "Python 3 (ipykernel)",
   "language": "python",
   "name": "python3"
  },
  "language_info": {
   "codemirror_mode": {
    "name": "ipython",
    "version": 3
   },
   "file_extension": ".py",
   "mimetype": "text/x-python",
   "name": "python",
   "nbconvert_exporter": "python",
   "pygments_lexer": "ipython3",
   "version": "3.9.7"
  }
 },
 "nbformat": 4,
 "nbformat_minor": 5
}
